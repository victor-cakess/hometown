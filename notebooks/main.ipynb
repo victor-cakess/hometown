{
 "cells": [
  {
   "cell_type": "markdown",
   "metadata": {},
   "source": [
    "# Hometown - Analytics Case\n",
    "## Pipeline principal - Dados de Aerogeradores SIGEL/ANEEL\n",
    "\n",
    "Este notebook implementa um pipeline completo e idempotente para:\n",
    "- **Extração** de dados da API SIGEL/ANEEL\n",
    "- **Transformação** de JSON para Parquet otimizado\n",
    "- **Consolidação** em CSV final para Tableau\n",
    "\n",
    "### Características do Pipeline:\n",
    "- **Idempotente**: Não reprocessa dados desnecessariamente\n",
    "- **Baseado em dados**: Usa `DATA_ATUALIZACAO` da própria API\n",
    "- **Paralelo**: ThreadPool para performance\n",
    "- **Robusto**: Retry, validações e logs detalhados\n",
    "- **Limpo**: Auto-limpeza de dados antigos"
   ]
  },
  {
   "cell_type": "markdown",
   "metadata": {},
   "source": [
    "---\n",
    "## 1. Setup e configuração inicial\n",
    "\n",
    "Configuração do ambiente, imports e validação da conectividade com a API."
   ]
  },
  {
   "cell_type": "code",
   "execution_count": 1,
   "metadata": {},
   "outputs": [
    {
     "name": "stdout",
     "output_type": "stream",
     "text": [
      "🔧 Configuração do ambiente...\n",
      "Projeto root: /home/victor-jose/Documents/projetos/hometown\n",
      "Src path: /home/victor-jose/Documents/projetos/hometown/src\n",
      "✅ Paths configurados!\n"
     ]
    }
   ],
   "source": [
    "# Imports básicos e configuração de paths\n",
    "import sys\n",
    "import json\n",
    "from pathlib import Path\n",
    "import pandas as pd\n",
    "\n",
    "# Configurar path do projeto\n",
    "project_root = Path.cwd().parent\n",
    "src_path = project_root / \"src\"\n",
    "sys.path.insert(0, str(src_path))\n",
    "\n",
    "print(\"🔧 Configuração do ambiente...\")\n",
    "print(f\"Projeto root: {project_root}\")\n",
    "print(f\"Src path: {src_path}\")\n",
    "print(\"✅ Paths configurados!\")"
   ]
  },
  {
   "cell_type": "code",
   "execution_count": 2,
   "metadata": {},
   "outputs": [
    {
     "name": "stdout",
     "output_type": "stream",
     "text": [
      "Módulos importados com sucesso!\n",
      "API URL: https://sigel.aneel.gov.br/arcgis/rest/services/PORTAL/WFS/MapServer/0/query\n",
      "Tamanho da página: 1000 registros\n",
      "✅ Setup concluído!\n"
     ]
    }
   ],
   "source": [
    "# Imports dos módulos do projeto\n",
    "from extraction.extractors import SigelExtractor\n",
    "from extraction.validators import validate_api_connection, validate_extraction_results\n",
    "from transformation.processors import DataProcessor\n",
    "from consolidation.consolidators import DataConsolidator\n",
    "from config.settings import SIGEL_CONFIG\n",
    "from utils.logger import setup_logger\n",
    "from utils.exceptions import APIConnectionError, ValidationError\n",
    "\n",
    "# Setup do logger principal\n",
    "logger = setup_logger(__name__, \"pipeline.log\")\n",
    "\n",
    "print(\"Módulos importados com sucesso!\")\n",
    "print(f\"API URL: {SIGEL_CONFIG['url']}\")\n",
    "print(f\"Tamanho da página: {SIGEL_CONFIG['page_size']} registros\")\n",
    "print(\"✅ Setup concluído!\")"
   ]
  },
  {
   "cell_type": "markdown",
   "metadata": {},
   "source": [
    "### Validação da conectividade\n",
    "\n",
    "Testa a conexão com a API SIGEL/ANEEL antes de iniciar o pipeline."
   ]
  },
  {
   "cell_type": "code",
   "execution_count": 3,
   "metadata": {},
   "outputs": [
    {
     "name": "stdout",
     "output_type": "stream",
     "text": [
      "🌐 Testando conectividade com a API SIGEL/ANEEL...\n",
      "2025-06-02 00:26:25 - extraction.validators - INFO - API conectada com sucesso. Total de registros: 23522\n",
      "✅ API conectada com sucesso!\n",
      "2025-06-02 00:26:25 - __main__ - INFO - Validação de conectividade concluída com sucesso\n"
     ]
    }
   ],
   "source": [
    "# Testar conectividade com a API\n",
    "try:\n",
    "    print(\"🌐 Testando conectividade com a API SIGEL/ANEEL...\")\n",
    "    \n",
    "    api_url = SIGEL_CONFIG[\"url\"]\n",
    "    connection_ok = validate_api_connection(api_url)\n",
    "    \n",
    "    if connection_ok:\n",
    "        print(\"✅ API conectada com sucesso!\")\n",
    "        logger.info(\"Validação de conectividade concluída com sucesso\")\n",
    "    else:\n",
    "        print(\"❌ Falha na conexão com API\")\n",
    "        \n",
    "except (APIConnectionError, ValidationError) as e:\n",
    "    print(f\"❌ Erro de validação: {e}\")\n",
    "    logger.error(f\"Erro de validação: {e}\")\n",
    "except Exception as e:\n",
    "    print(f\"❌ Erro inesperado: {e}\")\n",
    "    logger.error(f\"Erro inesperado durante validação: {e}\")"
   ]
  },
  {
   "cell_type": "markdown",
   "metadata": {},
   "source": [
    "---\n",
    "## 2. Comandos de limpeza e manutenção\n",
    "\n",
    "Funções utilitárias para gerenciar dados e fazer limpeza quando necessário."
   ]
  },
  {
   "cell_type": "code",
   "execution_count": 4,
   "metadata": {},
   "outputs": [
    {
     "name": "stdout",
     "output_type": "stream",
     "text": [
      "STATUS ATUAL DOS DADOS:\n",
      "========================================\n",
      "Arquivos JSON (raw): 0\n",
      "Arquivos Parquet (processed): 0\n",
      "Arquivos CSV (output): 0\n",
      "Tamanho total: 0.00 MB\n",
      "\n",
      "==================================================\n",
      "COMANDOS DISPONÍVEIS:\n",
      "• show_current_data_status() - Mostra status dos dados\n",
      "• cleanup_all_data() - Remove todos os dados\n",
      "==================================================\n"
     ]
    }
   ],
   "source": [
    "def show_current_data_status():\n",
    "    \"\"\"Exibe status atual dos dados no projeto\"\"\"\n",
    "    print(\"STATUS ATUAL DOS DADOS:\")\n",
    "    print(\"=\"*40)\n",
    "    \n",
    "    # Contar arquivos em cada etapa\n",
    "    raw_files = list(Path(\"data/raw\").glob(\"aerogeradores_raw_*.json\")) if Path(\"data/raw\").exists() else []\n",
    "    processed_files = list(Path(\"data/processed\").glob(\"aerogeradores_processed_*.parquet\")) if Path(\"data/processed\").exists() else []\n",
    "    output_files = list(Path(\"data/output\").glob(\"aerogeradores_consolidado_*.csv\")) if Path(\"data/output\").exists() else []\n",
    "    \n",
    "    print(f\"Arquivos JSON (raw): {len(raw_files)}\")\n",
    "    print(f\"Arquivos Parquet (processed): {len(processed_files)}\")\n",
    "    print(f\"Arquivos CSV (output): {len(output_files)}\")\n",
    "    \n",
    "    # Calcular tamanhos\n",
    "    total_size = 0\n",
    "    for files, label in [(raw_files, \"JSONs\"), (processed_files, \"Parquets\"), (output_files, \"CSVs\")]:\n",
    "        if files:\n",
    "            size = sum(f.stat().st_size for f in files) / 1024 / 1024\n",
    "            total_size += size\n",
    "            print(f\"Tamanho {label}: {size:.2f} MB\")\n",
    "    \n",
    "    print(f\"Tamanho total: {total_size:.2f} MB\")\n",
    "    \n",
    "    return {\n",
    "        'raw_count': len(raw_files),\n",
    "        'processed_count': len(processed_files),\n",
    "        'output_count': len(output_files),\n",
    "        'total_size_mb': total_size\n",
    "    }\n",
    "\n",
    "def cleanup_all_data():\n",
    "    \"\"\"Remove todos os dados para recomeçar do zero\"\"\"\n",
    "    print(\"INICIANDO LIMPEZA COMPLETA...\")\n",
    "    \n",
    "    # Instanciar classes para usar métodos de limpeza\n",
    "    extractor = SigelExtractor()\n",
    "    processor = DataProcessor()\n",
    "    consolidator = DataConsolidator()\n",
    "    \n",
    "    # Executar limpeza de cada etapa\n",
    "    raw_removed = extractor.cleanup_all_raw_data()\n",
    "    processed_removed = processor.cleanup_all_processed_data()\n",
    "    output_removed = consolidator.cleanup_all_output_data()\n",
    "    \n",
    "    total_removed = raw_removed + processed_removed + output_removed\n",
    "    \n",
    "    print(f\"RESUMO DA LIMPEZA:\")\n",
    "    print(f\"  JSONs removidos: {raw_removed}\")\n",
    "    print(f\"  Parquets removidos: {processed_removed}\")\n",
    "    print(f\"  CSVs removidos: {output_removed}\")\n",
    "    print(f\"  Total de arquivos: {total_removed}\")\n",
    "    print(f\"✅ Limpeza completa concluída!\")\n",
    "    \n",
    "    return total_removed\n",
    "\n",
    "# Mostrar status inicial\n",
    "status = show_current_data_status()\n",
    "\n",
    "print(\"\\n\" + \"=\"*50)\n",
    "print(\"COMANDOS DISPONÍVEIS:\")\n",
    "print(\"• show_current_data_status() - Mostra status dos dados\")\n",
    "print(\"• cleanup_all_data() - Remove todos os dados\")\n",
    "print(\"=\"*50)"
   ]
  },
  {
   "cell_type": "markdown",
   "metadata": {},
   "source": [
    "---\n",
    "## 🚀 3. Pipeline principal - extração de dados\n",
    "\n",
    "Extração idempotente de dados da API SIGEL/ANEEL. O sistema verifica automaticamente se os dados mudaram na API antes de fazer nova extração."
   ]
  },
  {
   "cell_type": "code",
   "execution_count": 5,
   "metadata": {},
   "outputs": [
    {
     "name": "stdout",
     "output_type": "stream",
     "text": [
      "🔍 VERIFICANDO FRESHNESS DOS DADOS...\n",
      "==================================================\n",
      "2025-06-02 00:26:25 - extraction.extractors - INFO - Verificando freshness dos dados...\n",
      "2025-06-02 00:26:32 - extraction.extractors - INFO - API última atualização: 1673359590000\n",
      "2025-06-02 00:26:32 - extraction.extractors - INFO - Nossa última extração: 0\n",
      "2025-06-02 00:26:32 - extraction.extractors - INFO - Precisa atualizar: True\n",
      "STATUS DOS DADOS:\n",
      "  API última atualização: 1673359590000\n",
      "  Nossa última extração: 0\n",
      "  Precisa atualizar: True\n",
      "  Primeira execução - nenhuma extração anterior\n",
      "\n",
      "==================================================\n"
     ]
    }
   ],
   "source": [
    "# Instanciar extrator e verificar freshness dos dados\n",
    "print(\"🔍 VERIFICANDO FRESHNESS DOS DADOS...\")\n",
    "print(\"=\"*50)\n",
    "\n",
    "extractor = SigelExtractor()\n",
    "freshness = extractor.check_data_freshness()\n",
    "\n",
    "print(f\"STATUS DOS DADOS:\")\n",
    "print(f\"  API última atualização: {freshness['api_latest_update']}\")\n",
    "print(f\"  Nossa última extração: {freshness['our_last_extraction']}\")\n",
    "print(f\"  Precisa atualizar: {freshness['needs_refresh']}\")\n",
    "\n",
    "if freshness['last_extraction_time']:\n",
    "    print(f\"  Última extração em: {freshness['last_extraction_time']}\")\n",
    "    print(f\"  Registros da última extração: {freshness['last_total_records']:,}\")\n",
    "else:\n",
    "    print(f\"  Primeira execução - nenhuma extração anterior\")\n",
    "\n",
    "print(\"\\n\" + \"=\"*50)"
   ]
  },
  {
   "cell_type": "code",
   "execution_count": null,
   "metadata": {},
   "outputs": [
    {
     "name": "stdout",
     "output_type": "stream",
     "text": [
      "EXECUTANDO EXTRAÇÃO DE DADOS...\n",
      "(O sistema decide automaticamente se precisa extrair baseado na DATA_ATUALIZACAO da API)\n",
      "\n",
      "2025-06-02 00:26:32 - extraction.extractors - INFO - Verificando freshness dos dados...\n",
      "2025-06-02 00:26:33 - extraction.extractors - INFO - API última atualização: 1673359590000\n",
      "2025-06-02 00:26:33 - extraction.extractors - INFO - Nossa última extração: 0\n",
      "2025-06-02 00:26:33 - extraction.extractors - INFO - Precisa atualizar: True\n",
      "2025-06-02 00:26:33 - extraction.extractors - INFO - Dados da API foram atualizados, executando nova extração...\n",
      "2025-06-02 00:26:35 - extraction.extractors - INFO - Total de registros: 23522\n",
      "2025-06-02 00:26:35 - extraction.extractors - INFO - Total de páginas: 24\n",
      "2025-06-02 00:26:35 - extraction.extractors - INFO - Data de atualização da API: 1673359590000\n",
      "2025-06-02 00:26:35 - extraction.extractors - INFO - Extraindo página 1/24\n",
      "2025-06-02 00:26:35 - extraction.extractors - INFO - Extraindo página 2/24\n",
      "2025-06-02 00:26:36 - extraction.extractors - INFO - Extraindo página 3/24\n",
      "2025-06-02 00:26:36 - extraction.extractors - INFO - Extraindo página 4/24\n",
      "2025-06-02 00:26:36 - extraction.extractors - INFO - Extraindo página 5/24\n",
      "2025-06-02 00:26:38 - extraction.extractors - INFO - Extraindo página 6/24\n",
      "2025-06-02 00:26:39 - extraction.extractors - INFO - Extraindo página 7/24\n",
      "2025-06-02 00:26:40 - extraction.extractors - INFO - Extraindo página 8/24\n",
      "2025-06-02 00:26:40 - extraction.extractors - INFO - Extraindo página 9/24\n",
      "2025-06-02 00:26:41 - extraction.extractors - INFO - Extraindo página 10/24\n",
      "2025-06-02 00:26:41 - extraction.extractors - INFO - Extraindo página 11/24\n",
      "2025-06-02 00:26:41 - extraction.extractors - INFO - Extraindo página 12/24\n",
      "2025-06-02 00:26:42 - extraction.extractors - INFO - Extraindo página 13/24\n",
      "2025-06-02 00:26:42 - extraction.extractors - INFO - Extraindo página 14/24\n",
      "2025-06-02 00:26:43 - extraction.extractors - INFO - Extraindo página 15/24\n",
      "2025-06-02 00:26:43 - extraction.extractors - INFO - Extraindo página 16/24\n",
      "2025-06-02 00:26:43 - extraction.extractors - INFO - Extraindo página 17/24\n",
      "2025-06-02 00:26:44 - extraction.extractors - INFO - Extraindo página 18/24\n",
      "2025-06-02 00:26:46 - extraction.extractors - INFO - Extraindo página 19/24\n",
      "2025-06-02 00:26:46 - extraction.extractors - INFO - Extraindo página 20/24\n",
      "2025-06-02 00:26:47 - extraction.extractors - INFO - Extraindo página 21/24\n",
      "2025-06-02 00:26:48 - extraction.extractors - INFO - Extraindo página 22/24\n",
      "2025-06-02 00:26:49 - extraction.extractors - INFO - Extraindo página 23/24\n",
      "2025-06-02 00:26:49 - extraction.extractors - INFO - Extraindo página 24/24\n"
     ]
    }
   ],
   "source": [
    "# Executar extração (idempotente - só extrai se necessário)\n",
    "print(\"EXECUTANDO EXTRAÇÃO DE DADOS...\")\n",
    "print(\"(O sistema decide automaticamente se precisa extrair baseado na DATA_ATUALIZACAO da API)\\n\")\n",
    "\n",
    "try:\n",
    "    # Extração idempotente (force_refresh=False por padrão)\n",
    "    saved_files = extractor.extract_all_data()\n",
    "    \n",
    "    print(f\"\\nRESULTADO DA EXTRAÇÃO:\")\n",
    "    print(f\"✅ Arquivos JSON salvos: {len(saved_files)}\")\n",
    "    \n",
    "    if saved_files:\n",
    "        # Mostrar alguns arquivos como exemplo\n",
    "        print(f\"\\nArquivos salvos (primeiros 3):\")\n",
    "        for i, file_path in enumerate(saved_files[:3]):\n",
    "            filename = Path(file_path).name\n",
    "            size = Path(file_path).stat().st_size / 1024  # KB\n",
    "            print(f\"  {i+1}. {filename} ({size:.1f} KB)\")\n",
    "        \n",
    "        if len(saved_files) > 3:\n",
    "            print(f\"  ... e mais {len(saved_files) - 3} arquivos\")\n",
    "        \n",
    "        # Calcular tamanho total\n",
    "        total_size = sum(Path(f).stat().st_size for f in saved_files) / 1024 / 1024\n",
    "        print(f\"\\nTamanho total: {total_size:.2f} MB\")\n",
    "        print(f\"Localização: data/raw/\")\n",
    "    \n",
    "    logger.info(f\"Extração concluída: {len(saved_files)} arquivos\")\n",
    "    \n",
    "except Exception as e:\n",
    "    print(f\"❌ Erro durante extração: {e}\")\n",
    "    logger.error(f\"Erro durante extração: {e}\")\n",
    "    raise"
   ]
  },
  {
   "cell_type": "code",
   "execution_count": null,
   "metadata": {},
   "outputs": [],
   "source": [
    "# Validação dos dados extraídos\n",
    "if 'saved_files' in locals() and saved_files:\n",
    "    print(\"VALIDANDO DADOS EXTRAÍDOS...\")\n",
    "    \n",
    "    try:\n",
    "        # Validação usando função do módulo validators\n",
    "        validation_ok = validate_extraction_results(\n",
    "            saved_files=saved_files,\n",
    "            expected_records=0  # A função vai descobrir automaticamente\n",
    "        )\n",
    "        \n",
    "        if validation_ok:\n",
    "            print(\"✅ Validação dos dados extraídos concluída!\")\n",
    "        else:\n",
    "            print(\"❌ Falha na validação dos dados extraídos\")\n",
    "            \n",
    "        # Explorar estrutura de um arquivo como exemplo\n",
    "        print(\"\\nEXPLORANDO ESTRUTURA DOS DADOS:\")\n",
    "        first_file = saved_files[0]\n",
    "        print(f\"Arquivo exemplo: {Path(first_file).name}\")\n",
    "        \n",
    "        with open(first_file, 'r', encoding='utf-8') as f:\n",
    "            sample_data = json.load(f)\n",
    "        \n",
    "        print(f\"Chaves principais: {list(sample_data.keys())}\")\n",
    "        \n",
    "        if 'features' in sample_data:\n",
    "            features = sample_data['features']\n",
    "            print(f\"Features neste arquivo: {len(features)}\")\n",
    "            \n",
    "            if features:\n",
    "                first_feature = features[0]\n",
    "                attrs = first_feature.get('attributes', {})\n",
    "                print(f\"Campos disponíveis: {list(attrs.keys())[:8]}...\")  # Primeiros 8\n",
    "                \n",
    "                # Mostrar campo de data de atualização\n",
    "                if 'DATA_ATUALIZACAO' in attrs:\n",
    "                    data_atualizacao = attrs['DATA_ATUALIZACAO']\n",
    "                    print(f\"DATA_ATUALIZACAO exemplo: {data_atualizacao}\")\n",
    "        \n",
    "        logger.info(\"Validação dos dados extraídos concluída com sucesso\")\n",
    "        \n",
    "    except Exception as e:\n",
    "        print(f\"❌ Erro durante validação: {e}\")\n",
    "        logger.error(f\"Erro durante validação: {e}\")\n",
    "else:\n",
    "    print(\"⚠️ Nenhum arquivo para validar. A extração pode ter sido pulada (idempotência).\")"
   ]
  },
  {
   "cell_type": "markdown",
   "metadata": {},
   "source": [
    "---\n",
    "## 4. Fase de transformação - JSON → Parquet\n",
    "\n",
    "Transforma os arquivos JSON em Parquet otimizado com dados geográficos processados (lat/long extraídos). Essa fase deixa os dados armazenados em parquet para futuras transformações ou persistência em um banco de dados, otimizando a leitura."
   ]
  },
  {
   "cell_type": "code",
   "execution_count": null,
   "metadata": {},
   "outputs": [],
   "source": [
    "# Instanciar processador e verificar necessidade de transformação\n",
    "print(\"VERIFICANDO NECESSIDADE DE TRANSFORMAÇÃO...\")\n",
    "print(\"=\"*50)\n",
    "\n",
    "processor = DataProcessor()\n",
    "transform_check = processor.check_transformation_needed()\n",
    "\n",
    "print(f\"STATUS DA TRANSFORMAÇÃO:\")\n",
    "print(f\"  Precisa transformar: {transform_check['needs_transformation']}\")\n",
    "\n",
    "if 'json_count' in transform_check:\n",
    "    print(f\"  Arquivos JSON encontrados: {transform_check['json_count']}\")\n",
    "if 'parquet_count' in transform_check:\n",
    "    print(f\"  Arquivos Parquet existentes: {transform_check['parquet_count']}\")\n",
    "\n",
    "print(\"\\n\" + \"=\"*50)"
   ]
  },
  {
   "cell_type": "markdown",
   "metadata": {},
   "source": [
    "## Importante: \n",
    "\n",
    "Caso os arquivos já existam, o comportamento da célula abaixo será de dar erro, impedindo a execução de quaisuqer outras células abaixo dela, protegendo a estabilidade do csv"
   ]
  },
  {
   "cell_type": "code",
   "execution_count": null,
   "metadata": {},
   "outputs": [],
   "source": [
    "# Executar transformação (idempotente - só processa se necessário)\n",
    "print(\"EXECUTANDO TRANSFORMAÇÃO JSON → PARQUET...\")\n",
    "print(\"(Sistema converte JSON para Parquet com coordenadas lat/long extraídas)\\n\")\n",
    "\n",
    "try:\n",
    "    # Transformação idempotente (force_refresh=False por padrão)\n",
    "    processed_files = processor.process_all_files()\n",
    "    \n",
    "    print(f\"\\nRESULTADO DA TRANSFORMAÇÃO:\")\n",
    "    print(f\"✅ Arquivos Parquet criados: {len(processed_files)}\")\n",
    "    \n",
    "    if processed_files:\n",
    "        # Calcular estatísticas dos parquets\n",
    "        total_size = 0\n",
    "        total_records = 0\n",
    "        \n",
    "        print(f\"\\n📋 Arquivos Parquet (primeiros 3):\")\n",
    "        for i, file_path in enumerate(processed_files[:3]):\n",
    "            filename = Path(file_path).name\n",
    "            size = Path(file_path).stat().st_size / 1024  # KB\n",
    "            total_size += Path(file_path).stat().st_size\n",
    "            \n",
    "            # Contar registros no parquet\n",
    "            try:\n",
    "                df = pd.read_parquet(file_path)\n",
    "                records = len(df)\n",
    "                total_records += records\n",
    "                print(f\"  {i+1}. {filename} ({size:.1f} KB, {records:,} registros)\")\n",
    "            except:\n",
    "                print(f\"  {i+1}. {filename} ({size:.1f} KB)\")\n",
    "        \n",
    "        if len(processed_files) > 3:\n",
    "            print(f\"  ... e mais {len(processed_files) - 3} arquivos\")\n",
    "            \n",
    "            # Contar registros restantes\n",
    "            for file_path in processed_files[3:]:\n",
    "                total_size += Path(file_path).stat().st_size\n",
    "                try:\n",
    "                    df = pd.read_parquet(file_path)\n",
    "                    total_records += len(df)\n",
    "                except:\n",
    "                    pass\n",
    "        \n",
    "        print(f\"\\nTamanho total: {total_size / 1024 / 1024:.2f} MB\")\n",
    "        print(f\"Total de registros: {total_records:,}\")\n",
    "        print(f\"Localização: data/processed/\")\n",
    "        print(f\"Compressão: {((total_size / 1024 / 1024) / 17) * 100:.1f}% do tamanho original JSON\")\n",
    "    \n",
    "    logger.info(f\"Transformação concluída: {len(processed_files)} parquets\")\n",
    "    \n",
    "except :\n",
    "    print(f\"❌ Erro durante transformação: Não precisa transformar, não há atualização\")\n",
    "    logger.error(f\"Erro durante transformação: Não precisa transformar, não há atualização\")\n",
    "    raise"
   ]
  },
  {
   "cell_type": "markdown",
   "metadata": {},
   "source": [
    "---\n",
    "## 📊 5. Fase de consolidação - Parquet → CSV Final\n",
    "\n",
    "Consolida todos os Parquets em um único CSV otimizado para o Tableau, com validações inteligentes de conteúdo."
   ]
  },
  {
   "cell_type": "code",
   "execution_count": null,
   "metadata": {},
   "outputs": [],
   "source": [
    "# Instanciar consolidador e verificar necessidade de consolidação\n",
    "print(\"📊 VERIFICANDO NECESSIDADE DE CONSOLIDAÇÃO...\")\n",
    "print(\"=\"*50)\n",
    "\n",
    "consolidator = DataConsolidator()\n",
    "consolidation_check = consolidator.check_consolidation_needed()\n",
    "\n",
    "print(f\"📊 STATUS DA CONSOLIDAÇÃO:\")\n",
    "print(f\"  🔄 Precisa consolidar: {consolidation_check['needs_consolidation']}\")\n",
    "print(f\"  📝 Motivo: {consolidation_check['reason']}\")\n",
    "\n",
    "if 'csv_records' in consolidation_check:\n",
    "    print(f\"  📄 Registros no CSV atual: {consolidation_check['csv_records']:,}\")\n",
    "if 'expected_records' in consolidation_check:\n",
    "    print(f\"  📦 Registros esperados: {consolidation_check['expected_records']:,}\")\n",
    "if 'parquet_count' in consolidation_check:\n",
    "    print(f\"  📦 Arquivos Parquet encontrados: {consolidation_check['parquet_count']}\")\n",
    "\n",
    "print(\"\\n\" + \"=\"*50)"
   ]
  },
  {
   "cell_type": "code",
   "execution_count": null,
   "metadata": {},
   "outputs": [],
   "source": [
    "# Executar consolidação (idempotente - só consolida se necessário)\n",
    "print(\"EXECUTANDO CONSOLIDAÇÃO PARQUET → CSV...\")\n",
    "print(\"(Sistema cria CSV final otimizado para Tableau com dados limpos e validados)\\n\")\n",
    "\n",
    "try:\n",
    "    # Consolidação idempotente (force_refresh=False por padrão)\n",
    "    output_path = consolidator.consolidate_all()\n",
    "    \n",
    "    print(f\"\\nRESULTADO DA CONSOLIDAÇÃO:\")\n",
    "    \n",
    "    if output_path and Path(output_path).exists():\n",
    "        filename = Path(output_path).name\n",
    "        file_size = Path(output_path).stat().st_size / 1024 / 1024  # MB\n",
    "        \n",
    "        print(f\"✅ CSV final criado: {filename}\")\n",
    "        print(f\"Tamanho do arquivo: {file_size:.2f} MB\")\n",
    "        print(f\"Localização completa: {output_path}\")\n",
    "        \n",
    "        # Analisar conteúdo do CSV final\n",
    "        print(f\"\\nANÁLISE DO CSV FINAL:\")\n",
    "        df_final = pd.read_csv(output_path)\n",
    "        summary = consolidator.get_data_summary(df_final)\n",
    "        \n",
    "        print(f\"Total de registros: {summary['total_records']:,}\")\n",
    "        print(f\"Total de colunas: {summary['total_columns']}\")\n",
    "        print(f\"Uso de memória: {summary['memory_usage_mb']:.2f} MB\")\n",
    "        \n",
    "        # Coordenadas geográficas\n",
    "        if 'coordinate_stats' in summary:\n",
    "            coords = summary['coordinate_stats']\n",
    "            print(f\"\\nCOORDENADAS GEOGRÁFICAS:\")\n",
    "            print(f\"  Latitude: {coords['lat_min']:.6f} → {coords['lat_max']:.6f}\")\n",
    "            print(f\"  Longitude: {coords['lon_min']:.6f} → {coords['lon_max']:.6f}\")\n",
    "        \n",
    "        # Estrutura das colunas\n",
    "        print(f\"\\nESTRUTURA DOS DADOS (primeiras 10 colunas):\")\n",
    "        for i, col in enumerate(summary['columns'][:10], 1):\n",
    "            print(f\"  {i:2d}. {col}\")\n",
    "        if len(summary['columns']) > 10:\n",
    "            print(f\"  ... e mais {len(summary['columns']) - 10} colunas\")\n",
    "        \n",
    "        print(f\"\\nCSV PRONTO PARA TABLEAU\")\n",
    "        print(f\"   • Coordenadas no início para mapas automáticos\")\n",
    "        print(f\"   • Dados limpos e validados\")\n",
    "        print(f\"   • Formato otimizado para análise\")\n",
    "        \n",
    "    else:\n",
    "        print(f\"⚠️ Nenhum CSV foi criado (possivelmente devido à idempotência)\")\n",
    "    \n",
    "    logger.info(f\"Consolidação concluída: {filename if output_path else 'pulada'}\")\n",
    "    \n",
    "except Exception as e:\n",
    "    print(f\"❌ Erro durante consolidação: {e}\")\n",
    "    logger.error(f\"Erro durante consolidação: {e}\")\n",
    "    raise"
   ]
  },
  {
   "cell_type": "code",
   "execution_count": null,
   "metadata": {},
   "outputs": [],
   "source": [
    "# Teste de force refresh - deve reprocessar tudo\n",
    "print(\"\\nTESTE DE FORCE REFRESH\")\n",
    "print(\"=\"*40)\n",
    "print(\"⚠️ ATENÇÃO: Isso vai reprocessar todos os dados (pode demorar alguns minutos)\")\n",
    "print(\"Descomente as linhas abaixo se quiser testar force refresh:\\n\")\n",
    "\n",
    "print(\"# Force refresh - descomente para executar:\")\n",
    "print(\"# force_files = test_extractor.extract_all_data(force_refresh=True)\")\n",
    "print(\"# force_parquets = test_processor.process_all_files(force_refresh=True)\")\n",
    "print(\"# force_csv = test_consolidator.consolidate_all(force_refresh=True)\")\n",
    "print(\"# print(f'Force refresh: {len(force_files)} JSONs, {len(force_parquets)} Parquets, 1 CSV')\")\n",
    "\n",
    "print(\"\\nO force refresh deve:\")\n",
    "print(\"   • Limpar dados antigos automaticamente\")\n",
    "print(\"   • Reprocessar todos os dados do zero\")\n",
    "print(\"   • Gerar novos timestamps em todos os arquivos\")"
   ]
  },
  {
   "cell_type": "markdown",
   "metadata": {},
   "source": [
    "---\n",
    "## 7. Comandos de manutenção\n",
    "\n",
    "Ferramentas para limpeza, debug e manutenção do pipeline."
   ]
  },
  {
   "cell_type": "code",
   "execution_count": null,
   "metadata": {},
   "outputs": [],
   "source": [
    "# Comandos de limpeza e manutenção\n",
    "print(\"COMANDOS DE MANUTENÇÃO DISPONÍVEIS\")\n",
    "print(\"=\"*50)\n",
    "\n",
    "print(\"STATUS E INFORMAÇÕES:\")\n",
    "print(\"• show_current_data_status() - Mostra status completo dos dados\")\n",
    "print(\"• extractor.check_data_freshness() - Verifica se API mudou\")\n",
    "print(\"• processor.check_transformation_needed() - Verifica necessidade de transformação\")\n",
    "print(\"• consolidator.check_consolidation_needed() - Verifica necessidade de consolidação\")\n",
    "\n",
    "print(\"\\nLIMPEZA:\")\n",
    "print(\"• cleanup_all_data() - Remove TODOS os dados (reset completo)\")\n",
    "print(\"• extractor.cleanup_all_raw_data() - Remove apenas JSONs\")\n",
    "print(\"• processor.cleanup_all_processed_data() - Remove apenas Parquets\")\n",
    "print(\"• consolidator.cleanup_all_output_data() - Remove apenas CSVs\")\n",
    "\n",
    "print(\"\\nFORCE REFRESH:\")\n",
    "print(\"• extractor.extract_all_data(force_refresh=True) - Força nova extração\")\n",
    "print(\"• processor.process_all_files(force_refresh=True) - Força nova transformação\")\n",
    "print(\"• consolidator.consolidate_all(force_refresh=True) - Força nova consolidação\")\n",
    "\n",
    "print(\"\\n\" + \"=\"*50)\n",
    "print(\"• Use cleanup_all_data() se quiser recomeçar do zero\")\n",
    "print(\"• Use force_refresh=True se suspeitar de dados corrompidos\")\n",
    "print(\"• O pipeline normal (sem parâmetros) é idempotente e eficiente\")\n",
    "print(\"=\"*50)"
   ]
  },
  {
   "cell_type": "code",
   "execution_count": null,
   "metadata": {},
   "outputs": [],
   "source": [
    "output_path = Path(\"../data/output\")\n",
    "csv_files = list(output_path.glob(\"aerogeradores_consolidado_*.csv\"))\n",
    "latest_csv = max(csv_files, key=lambda f: f.stat().st_mtime)\n",
    "df = pd.read_csv(latest_csv)"
   ]
  },
  {
   "cell_type": "code",
   "execution_count": null,
   "metadata": {},
   "outputs": [],
   "source": [
    "import geopandas as gpd\n",
    "import pandas as pd\n",
    "import matplotlib.pyplot as plt\n",
    "\n",
    "# Carregar o shapefile do mundo e filtrar apenas pelo Brasil\n",
    "world = gpd.read_file(gpd.datasets.get_path('naturalearth_lowres'))\n",
    "brazil = world[world['name'] == 'Brazil']\n",
    "\n",
    "df = pd.read_csv(latest_csv)\n",
    "\n",
    "# Converter o DataFrame em GeoDataFrame, definindo pontos a partir de latitude e longitude\n",
    "gdf = gpd.GeoDataFrame(\n",
    "    df,\n",
    "    geometry=gpd.points_from_xy(df['longitude'], df['latitude']),\n",
    "    crs=\"EPSG:4326\"\n",
    ")\n",
    "\n",
    "gdf = gdf.to_crs(brazil.crs)\n",
    "\n",
    "# Plotar o mapa do Brasil\n",
    "fig, ax = plt.subplots(figsize=(10, 10))\n",
    "brazil.plot(ax=ax, color='lightgrey', edgecolor='black')\n",
    "\n",
    "# Sobrepor os pontos dos aerogeradores\n",
    "gdf.plot(ax=ax, markersize=1, color='red', alpha=0.7)\n",
    "\n",
    "# Ajustes finais\n",
    "ax.set_title(\"Localização dos aerogeradores no Brasil\")\n",
    "ax.set_axis_off()\n",
    "\n",
    "plt.show()\n"
   ]
  },
  {
   "cell_type": "code",
   "execution_count": null,
   "metadata": {
    "scrolled": true
   },
   "outputs": [],
   "source": [
    "df.head()"
   ]
  },
  {
   "cell_type": "code",
   "execution_count": null,
   "metadata": {},
   "outputs": [],
   "source": [
    "df.dtypes"
   ]
  },
  {
   "cell_type": "code",
   "execution_count": null,
   "metadata": {},
   "outputs": [],
   "source": [
    "# Count how many entries in ‘POT_MW’ are strictly greater than 1000\n",
    "count_above_1000 = (df['POT_MW'] > 1000).sum()\n",
    "print(f\"Number of POT_MW values > 1000: {count_above_1000}\")\n"
   ]
  },
  {
   "cell_type": "code",
   "execution_count": null,
   "metadata": {},
   "outputs": [],
   "source": [
    "top_20 = df['POT_MW'].nsmallest(40)\n",
    "print(top_20)"
   ]
  },
  {
   "cell_type": "code",
   "execution_count": null,
   "metadata": {},
   "outputs": [],
   "source": [
    "# 1. Create df1 with only rows where POT_MW > 1000\n",
    "df1 = df[df['POT_MW'] > 1000]\n",
    "\n",
    "# 3. Print df1 in full\n",
    "print(df)"
   ]
  },
  {
   "cell_type": "code",
   "execution_count": null,
   "metadata": {},
   "outputs": [],
   "source": [
    "df.head()"
   ]
  },
  {
   "cell_type": "code",
   "execution_count": null,
   "metadata": {},
   "outputs": [],
   "source": [
    "import pandas as pd\n",
    "\n",
    "# Assuming your DataFrame is named df and the column is 'OPERACAO'\n",
    "\n",
    "# 1. Get counts of each unique value in 'OPERACAO'\n",
    "counts = df['UF'].value_counts(dropna=False)\n",
    "\n",
    "# 2. (Optional) Turn that into a DataFrame for easier viewing/manipulation\n",
    "counts_df = counts.rename_axis('UF').reset_index(name='count')\n",
    "\n",
    "print(counts_df)\n"
   ]
  }
 ],
 "metadata": {
  "kernelspec": {
   "display_name": "Python 3 (ipykernel)",
   "language": "python",
   "name": "python3"
  },
  "language_info": {
   "codemirror_mode": {
    "name": "ipython",
    "version": 3
   },
   "file_extension": ".py",
   "mimetype": "text/x-python",
   "name": "python",
   "nbconvert_exporter": "python",
   "pygments_lexer": "ipython3",
   "version": "3.12.3"
  }
 },
 "nbformat": 4,
 "nbformat_minor": 4
}
