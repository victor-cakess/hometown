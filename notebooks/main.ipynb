{
 "cells": [
  {
   "cell_type": "markdown",
   "metadata": {},
   "source": [
    "# Hometown - Analytics Case\n",
    "## Pipeline Principal - Extração de Dados SIGEL/ANEEL\n",
    "\n",
    "Este notebook contém o pipeline principal para extração de dados de aerogeradores."
   ]
  },
  {
   "cell_type": "markdown",
   "metadata": {},
   "source": [
    "## 1. Setup e Imports"
   ]
  },
  {
   "cell_type": "code",
   "execution_count": null,
   "metadata": {},
   "outputs": [],
   "source": [
    "import sys\n",
    "from pathlib import Path\n",
    "import pandas\n",
    "\n",
    "# Adicionar src ao path\n",
    "project_root = Path.cwd().parent\n",
    "src_path = project_root / \"src\"\n",
    "sys.path.insert(0, str(src_path))\n",
    "\n",
    "# Imports do projeto\n",
    "from extraction.extractors import SigelExtractor\n",
    "from extraction.validators import (\n",
    "    validate_api_connection, \n",
    "    validate_response_structure,\n",
    "    validate_extraction_results\n",
    ")\n",
    "from config.settings import SIGEL_CONFIG\n",
    "from utils.logger import setup_logger\n",
    "from utils.exceptions import APIConnectionError, ValidationError\n",
    "\n",
    "# Setup logger\n",
    "logger = setup_logger(__name__, \"extraction.log\")\n",
    "\n",
    "print(\"Setup concluído!\")\n",
    "print(f\"Projeto root: {project_root}\")\n",
    "print(f\"URL da API: {SIGEL_CONFIG['url']}\")"
   ]
  },
  {
   "cell_type": "markdown",
   "metadata": {},
   "source": [
    "## 2. Validação da Conectividade"
   ]
  },
  {
   "cell_type": "code",
   "execution_count": null,
   "metadata": {},
   "outputs": [],
   "source": [
    "# Testar conexão com a API\n",
    "try:\n",
    "    logger.info(\"Iniciando validação de conectividade...\")\n",
    "    \n",
    "    api_url = SIGEL_CONFIG[\"url\"]\n",
    "    connection_ok = validate_api_connection(api_url)\n",
    "    \n",
    "    if connection_ok:\n",
    "        print(\"✅ API conectada com sucesso!\")\n",
    "        logger.info(\"Validação de conectividade concluída com sucesso\")\n",
    "    else:\n",
    "        print(\"❌ Falha na conexão com API\")\n",
    "        \n",
    "except (APIConnectionError, ValidationError) as e:\n",
    "    print(f\"❌ Erro de validação: {e}\")\n",
    "    logger.error(f\"Erro de validação: {e}\")\n",
    "except Exception as e:\n",
    "    print(f\"❌ Erro inesperado: {e}\")\n",
    "    logger.error(f\"Erro inesperado durante validação: {e}\")"
   ]
  },
  {
   "cell_type": "markdown",
   "metadata": {},
   "source": [
    "## 3. Extração de Dados"
   ]
  },
  {
   "cell_type": "code",
   "execution_count": null,
   "metadata": {},
   "outputs": [],
   "source": [
    "# Executar extração completa\n",
    "try:\n",
    "    logger.info(\"Iniciando extração de dados...\")\n",
    "    print(\"🚀 Iniciando extração de dados dos aerogeradores...\")\n",
    "    \n",
    "    # Instanciar extrator\n",
    "    extractor = SigelExtractor()\n",
    "    \n",
    "    # Executar extração\n",
    "    saved_files = extractor.extract_all_data()\n",
    "    \n",
    "    print(f\"\\n✅ Extração concluída!\")\n",
    "    print(f\"📁 Arquivos salvos: {len(saved_files)}\")\n",
    "    \n",
    "    # Mostrar alguns arquivos salvos\n",
    "    print(\"\\n📋 Primeiros arquivos salvos:\")\n",
    "    for i, file_path in enumerate(saved_files[:5]):\n",
    "        print(f\"  {i+1}. {Path(file_path).name}\")\n",
    "    \n",
    "    if len(saved_files) > 5:\n",
    "        print(f\"  ... e mais {len(saved_files) - 5} arquivos\")\n",
    "        \n",
    "    logger.info(f\"Extração concluída com sucesso. {len(saved_files)} arquivos salvos\")\n",
    "    \n",
    "except Exception as e:\n",
    "    print(f\"❌ Erro durante extração: {e}\")\n",
    "    logger.error(f\"Erro durante extração: {e}\")\n",
    "    raise"
   ]
  },
  {
   "cell_type": "markdown",
   "metadata": {},
   "source": [
    "## 4. Validação dos Resultados"
   ]
  },
  {
   "cell_type": "code",
   "execution_count": null,
   "metadata": {},
   "outputs": [],
   "source": [
    "# Validar resultados da extração\n",
    "try:\n",
    "    if 'saved_files' in locals() and saved_files:\n",
    "        logger.info(\"Iniciando validação dos resultados...\")\n",
    "        print(\"🔍 Validando resultados da extração...\")\n",
    "        \n",
    "        # Validação básica (expandir posteriormente)\n",
    "        validation_ok = validate_extraction_results(\n",
    "            saved_files=saved_files,\n",
    "            expected_records=0  # TODO: usar contagem real\n",
    "        )\n",
    "        \n",
    "        if validation_ok:\n",
    "            print(\"✅ Validação dos resultados concluída!\")\n",
    "            logger.info(\"Validação dos resultados concluída com sucesso\")\n",
    "        else:\n",
    "            print(\"❌ Falha na validação dos resultados\")\n",
    "            \n",
    "    else:\n",
    "        print(\"⚠️ Nenhum arquivo para validar. Execute a extração primeiro.\")\n",
    "        \n",
    "except Exception as e:\n",
    "    print(f\"❌ Erro durante validação: {e}\")\n",
    "    logger.error(f\"Erro durante validação dos resultados: {e}\")"
   ]
  },
  {
   "cell_type": "markdown",
   "metadata": {},
   "source": [
    "## 5. Resumo da Execução"
   ]
  },
  {
   "cell_type": "code",
   "execution_count": null,
   "metadata": {},
   "outputs": [],
   "source": [
    "# Mostrar resumo final\n",
    "if 'saved_files' in locals():\n",
    "    print(\"📊 RESUMO DA EXTRAÇÃO\")\n",
    "    print(\"=\" * 40)\n",
    "    print(f\"🗂️  Total de arquivos: {len(saved_files)}\")\n",
    "    \n",
    "    # Calcular tamanho total dos arquivos\n",
    "    total_size = 0\n",
    "    for file_path in saved_files:\n",
    "        if Path(file_path).exists():\n",
    "            total_size += Path(file_path).stat().st_size\n",
    "    \n",
    "    print(f\"💾 Tamanho total: {total_size / 1024 / 1024:.2f} MB\")\n",
    "    print(f\"📁 Localização: data/raw/\")\n",
    "    print(f\"🕒 Padrão de nomes: aerogeradores_raw_YYYYMMDD_HHMMSS_page_XXXX.json\")\n",
    "    \n",
    "    # Status final\n",
    "    print(\"\\n🎉 Extração de dados concluída com sucesso!\")\n",
    "    print(\"🔄 Próximo passo: Transformação dos dados (JSON → Parquet)\")\n",
    "    \n",
    "else:\n",
    "    print(\"⚠️ Nenhuma extração foi executada nesta sessão.\")"
   ]
  },
  {
   "cell_type": "markdown",
   "metadata": {},
   "source": [
    "## 6. Debug e Exploração (Opcional)"
   ]
  },
  {
   "cell_type": "code",
   "execution_count": null,
   "metadata": {},
   "outputs": [],
   "source": [
    "# Explorar estrutura de um arquivo extraído\n",
    "import json\n",
    "\n",
    "if 'saved_files' in locals() and saved_files:\n",
    "    # Ler primeiro arquivo como exemplo\n",
    "    first_file = saved_files[0]\n",
    "    print(f\"🔍 Explorando estrutura do arquivo: {Path(first_file).name}\")\n",
    "    \n",
    "    with open(first_file, 'r', encoding='utf-8') as f:\n",
    "        sample_data = json.load(f)\n",
    "    \n",
    "    print(f\"\\n📋 Estrutura do JSON:\")\n",
    "    print(f\"  - Chaves principais: {list(sample_data.keys())}\")\n",
    "    \n",
    "    if 'features' in sample_data:\n",
    "        features = sample_data['features']\n",
    "        print(f\"  - Total de features: {len(features)}\")\n",
    "        \n",
    "        if features:\n",
    "            first_feature = features[0]\n",
    "            print(f\"  - Estrutura da feature:\")\n",
    "            print(f\"    - Chaves: {list(first_feature.keys())}\")\n",
    "            \n",
    "            if 'attributes' in first_feature:\n",
    "                attrs = first_feature['attributes']\n",
    "                print(f\"    - Attributes: {list(attrs.keys())[:10]}...\")  # Primeiros 10\n",
    "            \n",
    "            if 'geometry' in first_feature:\n",
    "                geom = first_feature['geometry']\n",
    "                print(f\"    - Geometry type: {geom.get('type', 'N/A')}\")\n",
    "else:\n",
    "    print(\"⚠️ Nenhum arquivo disponível para exploração.\")"
   ]
  },
  {
   "cell_type": "code",
   "execution_count": null,
   "metadata": {},
   "outputs": [],
   "source": [
    "# Teste de import\n",
    "try:\n",
    "    from transformation.processors import DataProcessor\n",
    "    from transformation.geo_utils import extract_coordinates, validate_geometry\n",
    "    print(\"✅ Imports da transformação OK!\")\n",
    "except Exception as e:\n",
    "    print(f\"❌ Erro no import: {e}\")\n",
    "\n",
    "# Teste básico\n",
    "processor = DataProcessor()\n",
    "json_files = processor.discover_raw_files()\n",
    "print(f\"📁 Arquivos JSON encontrados: {len(json_files)}\")\n",
    "\n",
    "# Testar um arquivo só\n",
    "if json_files:\n",
    "    print(f\"🔍 Testando: {json_files[0].name}\")\n",
    "    test_result = processor.process_single_file(json_files[0])\n",
    "    print(f\"✅ Resultado: {test_result}\")"
   ]
  },
  {
   "cell_type": "code",
   "execution_count": null,
   "metadata": {},
   "outputs": [],
   "source": [
    "# Processar todos os 24 arquivos JSON → Parquet\n",
    "print(\"🚀 Processando todos os arquivos...\")\n",
    "all_results = processor.process_all_files()\n",
    "\n",
    "print(f\"\\n📊 RESULTADO FINAL:\")\n",
    "print(f\"✅ Arquivos processados: {len(all_results)}\")\n",
    "\n",
    "# Verificar tamanho total\n",
    "total_size = 0\n",
    "for file_path in all_results:\n",
    "    if Path(file_path).exists():\n",
    "        total_size += Path(file_path).stat().st_size\n",
    "\n",
    "print(f\"💾 Tamanho total Parquets: {total_size / 1024 / 1024:.2f} MB\")\n",
    "print(f\"🗂️ Localização: data/processed/\")"
   ]
  },
  {
   "cell_type": "code",
   "execution_count": null,
   "metadata": {},
   "outputs": [],
   "source": [
    "# Teste de import\n",
    "try:\n",
    "    from consolidation.consolidators import DataConsolidator\n",
    "    print(\"✅ Import da consolidação OK!\")\n",
    "except Exception as e:\n",
    "    print(f\"❌ Erro no import: {e}\")\n",
    "\n",
    "# Instanciar consolidador\n",
    "consolidator = DataConsolidator()\n",
    "\n",
    "# Descobrir arquivos Parquet\n",
    "parquet_files = consolidator.discover_parquet_files()\n",
    "print(f\"📁 Arquivos Parquet encontrados: {len(parquet_files)}\")\n",
    "\n",
    "# Executar consolidação completa\n",
    "print(\"🚀 Iniciando consolidação completa...\")\n",
    "output_path = consolidator.consolidate_all()\n",
    "\n",
    "print(f\"\\n✅ Consolidação concluída!\")\n",
    "print(f\"📄 Arquivo CSV: {Path(output_path).name}\")\n",
    "print(f\"📁 Localização: {output_path}\")"
   ]
  },
  {
   "cell_type": "code",
   "execution_count": null,
   "metadata": {},
   "outputs": [],
   "source": [
    "# Adicionar import do pandas\n",
    "import pandas as pd\n",
    "from pathlib import Path\n",
    "\n",
    "# Carregar o CSV para análise\n",
    "df_final = pd.read_csv(output_path)\n",
    "\n",
    "# Gerar resumo\n",
    "summary = consolidator.get_data_summary(df_final)\n",
    "\n",
    "print(\"\\n📊 RESUMO DOS DADOS CONSOLIDADOS:\")\n",
    "print(\"=\"*50)\n",
    "print(f\"📝 Total de registros: {summary['total_records']:,}\")\n",
    "print(f\"📋 Total de colunas: {summary['total_columns']}\")\n",
    "print(f\"💾 Uso de memória: {summary['memory_usage_mb']:.2f} MB\")\n",
    "\n",
    "if 'coordinate_stats' in summary:\n",
    "    coords = summary['coordinate_stats']\n",
    "    print(f\"\\n🗺️ COORDENADAS:\")\n",
    "    print(f\"  Latitude: {coords['lat_min']:.6f} → {coords['lat_max']:.6f}\")\n",
    "    print(f\"  Longitude: {coords['lon_min']:.6f} → {coords['lon_max']:.6f}\")\n",
    "\n",
    "print(f\"\\n📂 Colunas disponíveis:\")\n",
    "for i, col in enumerate(summary['columns'][:10], 1):\n",
    "    print(f\"  {i:2d}. {col}\")\n",
    "if len(summary['columns']) > 10:\n",
    "    print(f\"  ... e mais {len(summary['columns']) - 10} colunas\")\n",
    "\n",
    "# Verificar tamanho do arquivo\n",
    "file_size = Path(output_path).stat().st_size / 1024 / 1024\n",
    "print(f\"\\n💾 Tamanho do CSV: {file_size:.2f} MB\")"
   ]
  }
 ],
 "metadata": {
  "kernelspec": {
   "display_name": "Python 3 (ipykernel)",
   "language": "python",
   "name": "python3"
  },
  "language_info": {
   "codemirror_mode": {
    "name": "ipython",
    "version": 3
   },
   "file_extension": ".py",
   "mimetype": "text/x-python",
   "name": "python",
   "nbconvert_exporter": "python",
   "pygments_lexer": "ipython3",
   "version": "3.12.3"
  }
 },
 "nbformat": 4,
 "nbformat_minor": 4
}
